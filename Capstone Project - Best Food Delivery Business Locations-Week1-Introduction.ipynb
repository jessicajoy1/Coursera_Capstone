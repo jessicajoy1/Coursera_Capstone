{
 "cells": [
  {
   "cell_type": "markdown",
   "metadata": {},
   "source": [
    "## Capstone Project - Best Food Delivery Business Locations"
   ]
  },
  {
   "cell_type": "markdown",
   "metadata": {},
   "source": [
    "### Applied Data Science Capstone by IBM/Coursera"
   ]
  },
  {
   "cell_type": "markdown",
   "metadata": {},
   "source": [
    "## Introduction"
   ]
  },
  {
   "cell_type": "markdown",
   "metadata": {},
   "source": [
    "This is a data-driven site selection analysis for food delivery start-ups in Manhattan to select the best positions where they could provide the fastest service and take less operation risk.\n",
    "\n",
    "This analysis is based on some assumptions:\n",
    "\n",
    "1) Customers prefer the high rating merchandises\n",
    "\n",
    "2) Food delivery order cannot be canceled after the food is picked up from the merchandise\n",
    "\n",
    "3) The distance between site location and high rating merchandises is the dominated factor of business operation risk.\n",
    "\n",
    "According to the assumptions we should group the all high rating merchandises and find every point that has the shortest distance to all of the merchandises in the group. Those points will be the best locations for food delivery sites."
   ]
  },
  {
   "cell_type": "code",
   "execution_count": null,
   "metadata": {},
   "outputs": [],
   "source": []
  }
 ],
 "metadata": {
  "kernelspec": {
   "display_name": "Python 3",
   "language": "python",
   "name": "python3"
  },
  "language_info": {
   "codemirror_mode": {
    "name": "ipython",
    "version": 3
   },
   "file_extension": ".py",
   "mimetype": "text/x-python",
   "name": "python",
   "nbconvert_exporter": "python",
   "pygments_lexer": "ipython3",
   "version": "3.6.8"
  }
 },
 "nbformat": 4,
 "nbformat_minor": 2
}
